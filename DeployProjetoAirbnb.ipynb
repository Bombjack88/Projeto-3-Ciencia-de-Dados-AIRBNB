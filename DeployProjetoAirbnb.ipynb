{
 "cells": [
  {
   "cell_type": "code",
   "execution_count": 55,
   "metadata": {},
   "outputs": [],
   "source": [
    "#não apresentar os warnings\n",
    "\n",
    "import warnings\n",
    "warnings.filterwarnings('ignore')\n",
    "warnings.simplefilter('ignore')\n"
   ]
  },
  {
   "cell_type": "code",
   "execution_count": 56,
   "metadata": {},
   "outputs": [],
   "source": [
    "import streamlit as st\n",
    "import joblib\n"
   ]
  },
  {
   "cell_type": "code",
   "execution_count": 57,
   "metadata": {},
   "outputs": [],
   "source": [
    "# Fazer dicionários com as diferntes variáveis: numéricos, V e F, e listas\n",
    "import pandas as pd\n",
    "import streamlit as st\n",
    "import joblib\n",
    "\n",
    "\n",
    "x_numericos = {'latitude': 0, 'longitude': 0, 'accommodates': 0, 'bathrooms': 0, 'bedrooms': 0, 'beds': 0, \n",
    "               'extra_people': 0, 'minimum_nights': 0, 'ano': 0, 'mes': 0, 'n_amenities': 0, 'host_listings_count': 0}\n",
    "\n",
    "x_tf = {'host_is_superhost': 0, 'instant_bookable': 0}\n",
    "\n",
    "x_listas = {'property_type': ['Apartment', 'Bed and breakfast', 'Condominium', 'Guest suite', 'Guesthouse', 'Hostel', 'House', 'Loft', 'Outros', 'Serviced apartment'],\n",
    "            'room_type': ['Entire home/apt', 'Hotel room', 'Private room', 'Shared room'],\n",
    "            'cancellation_policy': ['flexible', 'moderate', 'strict', 'strict_14_with_grace_period','Outros']\n",
    "            }\n",
    "\n",
    "# Campos de listas dicionario com a combinação do campo item com o valor \n",
    "\n",
    "dicionario={}\n",
    "for item in x_listas:\n",
    "    # item é a chave do dicionário -> estou a percorrer as chaves\n",
    "    # x_listas['property_type'] -> a lista do property_type\n",
    "    for valor in x_listas[item]:\n",
    "        dicionario[f'{item}_{valor}']=0\n",
    "\n",
    "        \n",
    "for item in x_numericos:\n",
    "    if item in ('latitude','longitude'):\n",
    "        valor=st.number_input(f'{item}', step=0.00001, value=0.0, format=\"%.5f\") #quero 5 casas decimais\n",
    "        \n",
    "    elif item=='extra_people':\n",
    "        valor=st.number_input(f'{item}', step=0.01, value=0.0) # o padrão já é 2 casas decimais \n",
    "    \n",
    "    else:\n",
    "        valor=st.number_input(f'{item}', step=1, value=0) # número inteiro\n",
    "        \n",
    "    x_numericos[item]=valor\n",
    "        \n",
    "        \n",
    "for item in x_tf:\n",
    "    valor=st.selectbox(f'{item}',('Sim','Não')) #posso colocar uma tupla ou uma lista\n",
    "    if valor=='Sim':\n",
    "        x_tf[item]=1\n",
    "    else:\n",
    "        x_tf[item]=0\n",
    "    \n",
    "for item in x_listas:\n",
    "    valor=st.selectbox(f'{item}',x_listas[item]) #posso colocar uma tupla ou uma lista\n",
    "    dicionario[f'{item}_{valor}']=1\n",
    "    \n",
    "    \n",
    "botao=st.button('Prever o valor do imóvel')\n",
    "\n",
    "if botao:\n",
    "    #juntar os 3 dicionários -> a ordem interessa \n",
    "    dicionario.update(x_numericos)\n",
    "    dicionario.update(x_tf)\n",
    "    #transformar num dataframe -> o input para o meu modelo é um dataframe\n",
    "    valores_x=pd.DataFrame(dicionario, index=[0])\n",
    "    \n",
    "    dados=pd.read_csv('dados.csv') #importo o DataFrame para ver a lista de colunas\n",
    "    colunas=list(dados.columns)[1:-1] # excluir a primeira e a última coluna que não são usadas na previsão\n",
    "    \n",
    "    # novo dataframe= antigo com as colunas ordenadad\n",
    "    novo_df=valores_x[colunas]\n",
    "    \n",
    "    #importar o modelo\n",
    "    modelo=joblib.load('modelo.joblib')\n",
    "    preco=modelo.predict(novo_df) # o output é um dataframe de 1 linha e 1 coluna\n",
    "    st.write(preco[0]) \n",
    "    \n"
   ]
  },
  {
   "cell_type": "code",
   "execution_count": 58,
   "metadata": {},
   "outputs": [],
   "source": [
    "# Código para correr o programa no anaconda prompt: \n",
    "# 1)ir para o local aonde está o programa .py -> cd Desktop\\Impressionador\\Projeto 3 - Ciência de Dados e Recomendações\n",
    "# 2) correr -> python -m streamlit run DeployProjetoAirbnb.py"
   ]
  }
 ],
 "metadata": {
  "kernelspec": {
   "display_name": "Python 3",
   "language": "python",
   "name": "python3"
  },
  "language_info": {
   "codemirror_mode": {
    "name": "ipython",
    "version": 3
   },
   "file_extension": ".py",
   "mimetype": "text/x-python",
   "name": "python",
   "nbconvert_exporter": "python",
   "pygments_lexer": "ipython3",
   "version": "3.7.3"
  },
  "toc": {
   "base_numbering": 1,
   "nav_menu": {},
   "number_sections": true,
   "sideBar": true,
   "skip_h1_title": false,
   "title_cell": "Table of Contents",
   "title_sidebar": "Contents",
   "toc_cell": false,
   "toc_position": {},
   "toc_section_display": true,
   "toc_window_display": false
  }
 },
 "nbformat": 4,
 "nbformat_minor": 2
}
